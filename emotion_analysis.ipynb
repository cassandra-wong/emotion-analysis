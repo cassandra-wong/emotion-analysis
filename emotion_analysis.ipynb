{
  "nbformat": 4,
  "nbformat_minor": 0,
  "metadata": {
    "colab": {
      "provenance": [],
      "authorship_tag": "ABX9TyO6IC4JFCF4DhQvbt1wa4iy",
      "include_colab_link": true
    },
    "kernelspec": {
      "name": "python3",
      "display_name": "Python 3"
    },
    "language_info": {
      "name": "python"
    }
  },
  "cells": [
    {
      "cell_type": "markdown",
      "metadata": {
        "id": "view-in-github",
        "colab_type": "text"
      },
      "source": [
        "<a href=\"https://colab.research.google.com/github/cassandra-wong/emotion-analysis/blob/main/emotion_analysis.ipynb\" target=\"_parent\"><img src=\"https://colab.research.google.com/assets/colab-badge.svg\" alt=\"Open In Colab\"/></a>"
      ]
    },
    {
      "cell_type": "markdown",
      "source": [
        "## Import Libraries"
      ],
      "metadata": {
        "id": "Ikk7rDfc9-S1"
      }
    },
    {
      "cell_type": "code",
      "execution_count": null,
      "metadata": {
        "id": "F8lCta7FxlXY"
      },
      "outputs": [],
      "source": [
        "import pandas as pd\n",
        "import numpy as np\n",
        "import matplotlib.pyplot as plt\n",
        "import seaborn as sns\n",
        "\n",
        "import tensorflow\n",
        "import keras\n",
        "from keras.preprocessing.text import Tokenizer\n",
        "from tensorflow.keras.preprocessing.sequence import pad_sequences\n",
        "from sklearn.metrics import accuracy_score,confusion_matrix, classification_report\n",
        "from sklearn.metrics import f1_score\n",
        "from sklearn.preprocessing import LabelEncoder\n",
        "from sklearn.model_selection import train_test_split\n",
        "from keras.models import Sequential\n",
        "from keras.layers import Embedding, Flatten, Dense\n",
        "\n",
        "import re\n",
        "import nltk\n",
        "from nltk.corpus import stopwords\n",
        "\n",
        "import pickle\n"
      ]
    },
    {
      "cell_type": "code",
      "source": [
        "nltk.download('omw-1.4')"
      ],
      "metadata": {
        "colab": {
          "base_uri": "https://localhost:8080/"
        },
        "id": "02Xq29tUcLnv",
        "outputId": "0fbc7e2e-5c5f-4291-f71d-4c2a349a8793"
      },
      "execution_count": null,
      "outputs": [
        {
          "output_type": "stream",
          "name": "stderr",
          "text": [
            "[nltk_data] Downloading package omw-1.4 to /root/nltk_data...\n",
            "[nltk_data]   Package omw-1.4 is already up-to-date!\n"
          ]
        },
        {
          "output_type": "execute_result",
          "data": {
            "text/plain": [
              "True"
            ]
          },
          "metadata": {},
          "execution_count": 2
        }
      ]
    },
    {
      "cell_type": "markdown",
      "source": [
        "Dataset is obtained from [Kaggle](https://www.kaggle.com/datasets/praveengovi/emotions-dataset-for-nlp)."
      ],
      "metadata": {
        "id": "47m8sLCeydve"
      }
    },
    {
      "cell_type": "code",
      "source": [
        "df_train = pd.read_csv(\"train.txt\", names=[\"Text\", \"Emotions\"], sep=';')\n",
        "df_test = pd.read_csv(\"test.txt\", names=[\"Text\", \"Emotions\"], sep=';')\n",
        "df_val = pd.read_csv(\"val.txt\", names=[\"Text\", \"Emotions\"], sep=';')\n",
        "\n",
        "df_train.head()"
      ],
      "metadata": {
        "colab": {
          "base_uri": "https://localhost:8080/",
          "height": 206
        },
        "id": "TMyTDPi2xo33",
        "outputId": "ca883ce7-91b7-4671-8551-d0cd225ddbda"
      },
      "execution_count": null,
      "outputs": [
        {
          "output_type": "execute_result",
          "data": {
            "text/plain": [
              "                                                Text Emotions\n",
              "0                            i didnt feel humiliated  sadness\n",
              "1  i can go from feeling so hopeless to so damned...  sadness\n",
              "2   im grabbing a minute to post i feel greedy wrong    anger\n",
              "3  i am ever feeling nostalgic about the fireplac...     love\n",
              "4                               i am feeling grouchy    anger"
            ],
            "text/html": [
              "\n",
              "  <div id=\"df-75a0470c-3c65-47f5-ad9d-dde393f7b787\">\n",
              "    <div class=\"colab-df-container\">\n",
              "      <div>\n",
              "<style scoped>\n",
              "    .dataframe tbody tr th:only-of-type {\n",
              "        vertical-align: middle;\n",
              "    }\n",
              "\n",
              "    .dataframe tbody tr th {\n",
              "        vertical-align: top;\n",
              "    }\n",
              "\n",
              "    .dataframe thead th {\n",
              "        text-align: right;\n",
              "    }\n",
              "</style>\n",
              "<table border=\"1\" class=\"dataframe\">\n",
              "  <thead>\n",
              "    <tr style=\"text-align: right;\">\n",
              "      <th></th>\n",
              "      <th>Text</th>\n",
              "      <th>Emotions</th>\n",
              "    </tr>\n",
              "  </thead>\n",
              "  <tbody>\n",
              "    <tr>\n",
              "      <th>0</th>\n",
              "      <td>i didnt feel humiliated</td>\n",
              "      <td>sadness</td>\n",
              "    </tr>\n",
              "    <tr>\n",
              "      <th>1</th>\n",
              "      <td>i can go from feeling so hopeless to so damned...</td>\n",
              "      <td>sadness</td>\n",
              "    </tr>\n",
              "    <tr>\n",
              "      <th>2</th>\n",
              "      <td>im grabbing a minute to post i feel greedy wrong</td>\n",
              "      <td>anger</td>\n",
              "    </tr>\n",
              "    <tr>\n",
              "      <th>3</th>\n",
              "      <td>i am ever feeling nostalgic about the fireplac...</td>\n",
              "      <td>love</td>\n",
              "    </tr>\n",
              "    <tr>\n",
              "      <th>4</th>\n",
              "      <td>i am feeling grouchy</td>\n",
              "      <td>anger</td>\n",
              "    </tr>\n",
              "  </tbody>\n",
              "</table>\n",
              "</div>\n",
              "      <button class=\"colab-df-convert\" onclick=\"convertToInteractive('df-75a0470c-3c65-47f5-ad9d-dde393f7b787')\"\n",
              "              title=\"Convert this dataframe to an interactive table.\"\n",
              "              style=\"display:none;\">\n",
              "        \n",
              "  <svg xmlns=\"http://www.w3.org/2000/svg\" height=\"24px\"viewBox=\"0 0 24 24\"\n",
              "       width=\"24px\">\n",
              "    <path d=\"M0 0h24v24H0V0z\" fill=\"none\"/>\n",
              "    <path d=\"M18.56 5.44l.94 2.06.94-2.06 2.06-.94-2.06-.94-.94-2.06-.94 2.06-2.06.94zm-11 1L8.5 8.5l.94-2.06 2.06-.94-2.06-.94L8.5 2.5l-.94 2.06-2.06.94zm10 10l.94 2.06.94-2.06 2.06-.94-2.06-.94-.94-2.06-.94 2.06-2.06.94z\"/><path d=\"M17.41 7.96l-1.37-1.37c-.4-.4-.92-.59-1.43-.59-.52 0-1.04.2-1.43.59L10.3 9.45l-7.72 7.72c-.78.78-.78 2.05 0 2.83L4 21.41c.39.39.9.59 1.41.59.51 0 1.02-.2 1.41-.59l7.78-7.78 2.81-2.81c.8-.78.8-2.07 0-2.86zM5.41 20L4 18.59l7.72-7.72 1.47 1.35L5.41 20z\"/>\n",
              "  </svg>\n",
              "      </button>\n",
              "      \n",
              "  <style>\n",
              "    .colab-df-container {\n",
              "      display:flex;\n",
              "      flex-wrap:wrap;\n",
              "      gap: 12px;\n",
              "    }\n",
              "\n",
              "    .colab-df-convert {\n",
              "      background-color: #E8F0FE;\n",
              "      border: none;\n",
              "      border-radius: 50%;\n",
              "      cursor: pointer;\n",
              "      display: none;\n",
              "      fill: #1967D2;\n",
              "      height: 32px;\n",
              "      padding: 0 0 0 0;\n",
              "      width: 32px;\n",
              "    }\n",
              "\n",
              "    .colab-df-convert:hover {\n",
              "      background-color: #E2EBFA;\n",
              "      box-shadow: 0px 1px 2px rgba(60, 64, 67, 0.3), 0px 1px 3px 1px rgba(60, 64, 67, 0.15);\n",
              "      fill: #174EA6;\n",
              "    }\n",
              "\n",
              "    [theme=dark] .colab-df-convert {\n",
              "      background-color: #3B4455;\n",
              "      fill: #D2E3FC;\n",
              "    }\n",
              "\n",
              "    [theme=dark] .colab-df-convert:hover {\n",
              "      background-color: #434B5C;\n",
              "      box-shadow: 0px 1px 3px 1px rgba(0, 0, 0, 0.15);\n",
              "      filter: drop-shadow(0px 1px 2px rgba(0, 0, 0, 0.3));\n",
              "      fill: #FFFFFF;\n",
              "    }\n",
              "  </style>\n",
              "\n",
              "      <script>\n",
              "        const buttonEl =\n",
              "          document.querySelector('#df-75a0470c-3c65-47f5-ad9d-dde393f7b787 button.colab-df-convert');\n",
              "        buttonEl.style.display =\n",
              "          google.colab.kernel.accessAllowed ? 'block' : 'none';\n",
              "\n",
              "        async function convertToInteractive(key) {\n",
              "          const element = document.querySelector('#df-75a0470c-3c65-47f5-ad9d-dde393f7b787');\n",
              "          const dataTable =\n",
              "            await google.colab.kernel.invokeFunction('convertToInteractive',\n",
              "                                                     [key], {});\n",
              "          if (!dataTable) return;\n",
              "\n",
              "          const docLinkHtml = 'Like what you see? Visit the ' +\n",
              "            '<a target=\"_blank\" href=https://colab.research.google.com/notebooks/data_table.ipynb>data table notebook</a>'\n",
              "            + ' to learn more about interactive tables.';\n",
              "          element.innerHTML = '';\n",
              "          dataTable['output_type'] = 'display_data';\n",
              "          await google.colab.output.renderOutput(dataTable, element);\n",
              "          const docLink = document.createElement('div');\n",
              "          docLink.innerHTML = docLinkHtml;\n",
              "          element.appendChild(docLink);\n",
              "        }\n",
              "      </script>\n",
              "    </div>\n",
              "  </div>\n",
              "  "
            ]
          },
          "metadata": {},
          "execution_count": 3
        }
      ]
    },
    {
      "cell_type": "code",
      "source": [
        "df_train.shape"
      ],
      "metadata": {
        "colab": {
          "base_uri": "https://localhost:8080/"
        },
        "id": "cGyDS-33RxyE",
        "outputId": "59036b25-5707-4b5d-cf41-91b5e7df3690"
      },
      "execution_count": null,
      "outputs": [
        {
          "output_type": "execute_result",
          "data": {
            "text/plain": [
              "(16000, 2)"
            ]
          },
          "metadata": {},
          "execution_count": 4
        }
      ]
    },
    {
      "cell_type": "code",
      "source": [
        "len(df_train['Text'])"
      ],
      "metadata": {
        "colab": {
          "base_uri": "https://localhost:8080/"
        },
        "id": "Y9Ks8ts1SCRg",
        "outputId": "49d7ebe0-d29f-466a-c92d-4959fefecf3e"
      },
      "execution_count": null,
      "outputs": [
        {
          "output_type": "execute_result",
          "data": {
            "text/plain": [
              "16000"
            ]
          },
          "metadata": {},
          "execution_count": 5
        }
      ]
    },
    {
      "cell_type": "code",
      "source": [
        "df_train.Emotions.value_counts()"
      ],
      "metadata": {
        "colab": {
          "base_uri": "https://localhost:8080/"
        },
        "id": "iSh_Et8O98xV",
        "outputId": "8d5458b1-c21c-489d-df6f-9a5463deff40"
      },
      "execution_count": null,
      "outputs": [
        {
          "output_type": "execute_result",
          "data": {
            "text/plain": [
              "joy         5362\n",
              "sadness     4666\n",
              "anger       2159\n",
              "fear        1937\n",
              "love        1304\n",
              "surprise     572\n",
              "Name: Emotions, dtype: int64"
            ]
          },
          "metadata": {},
          "execution_count": 6
        }
      ]
    },
    {
      "cell_type": "code",
      "source": [
        "# Assess distribution of data\n",
        "df_train.Emotions.value_counts() / df_train.shape[0] *100"
      ],
      "metadata": {
        "colab": {
          "base_uri": "https://localhost:8080/"
        },
        "id": "iDKkSDuh-F-9",
        "outputId": "18f21ccc-e950-420a-ef25-52c353eaf927"
      },
      "execution_count": null,
      "outputs": [
        {
          "output_type": "execute_result",
          "data": {
            "text/plain": [
              "joy         33.51250\n",
              "sadness     29.16250\n",
              "anger       13.49375\n",
              "fear        12.10625\n",
              "love         8.15000\n",
              "surprise     3.57500\n",
              "Name: Emotions, dtype: float64"
            ]
          },
          "metadata": {},
          "execution_count": 7
        }
      ]
    },
    {
      "cell_type": "code",
      "source": [
        "plt.figure(figsize=(8,4))\n",
        "sns.countplot(x='Emotions', data=df_train);"
      ],
      "metadata": {
        "colab": {
          "base_uri": "https://localhost:8080/",
          "height": 279
        },
        "id": "iFjDZsQw-F8r",
        "outputId": "280fb003-9a0c-4553-9f93-23ae3f1423be"
      },
      "execution_count": null,
      "outputs": [
        {
          "output_type": "display_data",
          "data": {
            "text/plain": [
              "<Figure size 576x288 with 1 Axes>"
            ],
            "image/png": "[encoded data removed]"
          },
          "metadata": {
            "needs_background": "light"
          }
        }
      ]
    },
    {
      "cell_type": "markdown",
      "source": [
        "## Text Preprocessing"
      ],
      "metadata": {
        "id": "QVmaK2zd-dIf"
      }
    },
    {
      "cell_type": "markdown",
      "source": [
        "We proceed to standardize the input sentence with a function and remove stop words (words that are filtered out as they don't add much context in NLP)."
      ],
      "metadata": {
        "id": "4h3zcOhwkgDw"
      }
    },
    {
      "cell_type": "code",
      "source": [
        "stop_words = set(stopwords.words(\"english\"))\n",
        "\n",
        "def standarize_sentence(text):\n",
        "    text = text.split()\n",
        "    text = ' '.join([t.lower() for t in text])                                              #lower case\n",
        "    text = ' '.join([i for i in str(text).split() if i not in stop_words])                  #no stop words\n",
        "    text = ''.join([i for i in text if not i.isdigit()])                                    #no numbers\n",
        "    text = re.sub('[%s]' % re.escape(\"\"\"!\"#$%&'()*+,،-./:;<=>؟?@[\\]^_`{|}~\"\"\"), ' ', text)  #no punctuations and white space\n",
        "    text = text.replace('؛','', )\n",
        "    text = ' '.join(re.sub('\\s+', ' ', text).split()).strip()\n",
        "    return text"
      ],
      "metadata": {
        "id": "UnSh22yxkdke"
      },
      "execution_count": null,
      "outputs": []
    },
    {
      "cell_type": "code",
      "source": [
        "def standard_df(df):\n",
        "  for i in range(len(df)):\n",
        "    sentence = df.loc[i, 'Text']\n",
        "    df.loc[i, 'Text'] = standarize_sentence(sentence)\n",
        "  return df"
      ],
      "metadata": {
        "id": "mpYDt1rGkrtO"
      },
      "execution_count": null,
      "outputs": []
    },
    {
      "cell_type": "code",
      "source": [
        "df_train = standard_df(df_train)\n",
        "df_test = standard_df(df_test)\n",
        "df_val = standard_df(df_val)"
      ],
      "metadata": {
        "id": "y-AsLBR_lv4B"
      },
      "execution_count": null,
      "outputs": []
    },
    {
      "cell_type": "code",
      "source": [
        "[\"Text\", \"Emotions\"]"
      ],
      "metadata": {
        "colab": {
          "base_uri": "https://localhost:8080/"
        },
        "id": "ZxVjRzhOzrsZ",
        "outputId": "23e8770b-8e16-4950-b7e2-e3cfa974fcc3"
      },
      "execution_count": null,
      "outputs": [
        {
          "output_type": "execute_result",
          "data": {
            "text/plain": [
              "['Text', 'Emotions']"
            ]
          },
          "metadata": {},
          "execution_count": 12
        }
      ]
    },
    {
      "cell_type": "code",
      "source": [
        "X_train = df_train['Text'].tolist()\n",
        "y_train = df_train['Emotions'].tolist()\n",
        "\n",
        "X_test = df_test['Text'].tolist()\n",
        "y_test = df_test['Emotions'].tolist()\n",
        "\n",
        "X_val = df_val['Text'].tolist()\n",
        "y_val = df_val['Emotions'].tolist()"
      ],
      "metadata": {
        "id": "y0fTQfL8-F1m"
      },
      "execution_count": null,
      "outputs": []
    },
    {
      "cell_type": "code",
      "source": [
        "len(X_train)"
      ],
      "metadata": {
        "colab": {
          "base_uri": "https://localhost:8080/"
        },
        "id": "F4hTZGhoQykk",
        "outputId": "2a9ae25f-6fec-4cbd-8a3d-d82fc8866e7b"
      },
      "execution_count": null,
      "outputs": [
        {
          "output_type": "execute_result",
          "data": {
            "text/plain": [
              "16000"
            ]
          },
          "metadata": {},
          "execution_count": 14
        }
      ]
    },
    {
      "cell_type": "code",
      "source": [
        "df_train.isnull().sum()"
      ],
      "metadata": {
        "colab": {
          "base_uri": "https://localhost:8080/"
        },
        "id": "kt9wu3NTRA-r",
        "outputId": "e27809b5-41c4-442b-d37e-d8f86c55dfae"
      },
      "execution_count": null,
      "outputs": [
        {
          "output_type": "execute_result",
          "data": {
            "text/plain": [
              "Text        0\n",
              "Emotions    0\n",
              "dtype: int64"
            ]
          },
          "metadata": {},
          "execution_count": 15
        }
      ]
    },
    {
      "cell_type": "markdown",
      "source": [
        "Tokenization refers to a task to split a sentence into smaller units (i.e., individual words), or tokens."
      ],
      "metadata": {
        "id": "_sW8JLl6ymT3"
      }
    },
    {
      "cell_type": "code",
      "source": [
        "# Tokenize the text data\n",
        "tokenizer = Tokenizer()\n",
        "tokenizer.fit_on_texts(X_train)"
      ],
      "metadata": {
        "id": "e83CWjn4yiAK"
      },
      "execution_count": null,
      "outputs": []
    },
    {
      "cell_type": "code",
      "source": [
        "# Pad sequence to the same length (in this case, max len) for feeding into the NN\n",
        "sequences_train = tokenizer.texts_to_sequences(X_train)\n",
        "sequences_test = tokenizer.texts_to_sequences(X_test)\n",
        "sequences_val = tokenizer.texts_to_sequences(X_val)"
      ],
      "metadata": {
        "id": "fWB2xU0Dyn3H"
      },
      "execution_count": null,
      "outputs": []
    },
    {
      "cell_type": "code",
      "source": [
        "max_length = max([len(seq) for seq in df_train['Text']])\n",
        "max_length"
      ],
      "metadata": {
        "colab": {
          "base_uri": "https://localhost:8080/"
        },
        "id": "GSTmflIz_Q3v",
        "outputId": "dd063f1e-4efb-45f0-c63f-091e595e8105"
      },
      "execution_count": null,
      "outputs": [
        {
          "output_type": "execute_result",
          "data": {
            "text/plain": [
              "232"
            ]
          },
          "metadata": {},
          "execution_count": 18
        }
      ]
    },
    {
      "cell_type": "code",
      "source": [
        "X_train = pad_sequences(sequences_train, maxlen=max_length, truncating='pre')\n",
        "X_test = pad_sequences(sequences_test, maxlen=max_length, truncating='pre')\n",
        "X_val = pad_sequences(sequences_val, maxlen=max_length, truncating='pre')"
      ],
      "metadata": {
        "id": "fuinfKQu_1ds"
      },
      "execution_count": null,
      "outputs": []
    },
    {
      "cell_type": "code",
      "source": [
        "X_train"
      ],
      "metadata": {
        "colab": {
          "base_uri": "https://localhost:8080/"
        },
        "id": "jCTkiK-aAEYz",
        "outputId": "259bb549-45c1-49d7-bdbc-7957b76a5b56"
      },
      "execution_count": null,
      "outputs": [
        {
          "output_type": "execute_result",
          "data": {
            "text/plain": [
              "array([[   0,    0,    0, ...,   49,    1,  562],\n",
              "       [   0,    0,    0, ...,   55, 1349, 1125],\n",
              "       [   0,    0,    0, ...,    1,  381,  326],\n",
              "       ...,\n",
              "       [   0,    0,    0, ...,  218,   32, 1201],\n",
              "       [   0,    0,    0, ..., 1106,    4,  230],\n",
              "       [   0,    0,    0, ...,    1,  175, 3444]], dtype=int32)"
            ]
          },
          "metadata": {},
          "execution_count": 20
        }
      ]
    },
    {
      "cell_type": "code",
      "source": [
        "# Use label encoder to change string labels to integers\n",
        "label_encoder = LabelEncoder()\n",
        "y_train = label_encoder.fit_transform(y_train)\n",
        "y_test = label_encoder.transform(y_test)\n",
        "y_val = label_encoder.transform(y_val)"
      ],
      "metadata": {
        "id": "9ThtRAxJypzu"
      },
      "execution_count": null,
      "outputs": []
    },
    {
      "cell_type": "code",
      "source": [
        "# One-hot encode labels\n",
        "y_train = keras.utils.to_categorical(y_train)\n",
        "y_test = keras.utils.to_categorical(y_test)\n",
        "y_val = keras.utils.to_categorical(y_val)"
      ],
      "metadata": {
        "id": "y-jJcRWPypxk"
      },
      "execution_count": null,
      "outputs": []
    },
    {
      "cell_type": "code",
      "source": [
        "y_train"
      ],
      "metadata": {
        "colab": {
          "base_uri": "https://localhost:8080/"
        },
        "id": "SPQOiiPFAXBd",
        "outputId": "1baba203-6e8e-4944-eb7e-8fe66e566f45"
      },
      "execution_count": null,
      "outputs": [
        {
          "output_type": "execute_result",
          "data": {
            "text/plain": [
              "array([[0., 0., 0., 0., 1., 0.],\n",
              "       [0., 0., 0., 0., 1., 0.],\n",
              "       [1., 0., 0., 0., 0., 0.],\n",
              "       ...,\n",
              "       [0., 0., 1., 0., 0., 0.],\n",
              "       [1., 0., 0., 0., 0., 0.],\n",
              "       [0., 0., 0., 0., 1., 0.]], dtype=float32)"
            ]
          },
          "metadata": {},
          "execution_count": 23
        }
      ]
    },
    {
      "cell_type": "markdown",
      "source": [
        "## Classification Model"
      ],
      "metadata": {
        "id": "7a5srv95yub2"
      }
    },
    {
      "cell_type": "code",
      "source": [
        "model = Sequential()\n",
        "model.add(Embedding(input_dim=len(tokenizer.word_index) + 1, \n",
        "                    output_dim=128, input_length=max_length))\n",
        "model.add(Flatten())\n",
        "model.add(Dense(units=128, activation=\"relu\"))\n",
        "model.add(Dense(units=len(y_train[0]), activation=\"softmax\"))"
      ],
      "metadata": {
        "id": "fjQt5P5_QH9H"
      },
      "execution_count": null,
      "outputs": []
    },
    {
      "cell_type": "code",
      "source": [
        "model.compile(optimizer=\"adam\", loss=\"categorical_crossentropy\", metrics=[\"accuracy\"])\n",
        "model.summary()"
      ],
      "metadata": {
        "colab": {
          "base_uri": "https://localhost:8080/"
        },
        "id": "8xAcVSLEyptc",
        "outputId": "fb5953b8-88ee-4f1c-e951-ac7b82e75b49"
      },
      "execution_count": null,
      "outputs": [
        {
          "output_type": "stream",
          "name": "stdout",
          "text": [
            "Model: \"sequential\"\n",
            "_________________________________________________________________\n",
            " Layer (type)                Output Shape              Param #   \n",
            "=================================================================\n",
            " embedding (Embedding)       (None, 232, 128)          1928320   \n",
            "                                                                 \n",
            " flatten (Flatten)           (None, 29696)             0         \n",
            "                                                                 \n",
            " dense (Dense)               (None, 128)               3801216   \n",
            "                                                                 \n",
            " dense_1 (Dense)             (None, 6)                 774       \n",
            "                                                                 \n",
            "=================================================================\n",
            "Total params: 5,730,310\n",
            "Trainable params: 5,730,310\n",
            "Non-trainable params: 0\n",
            "_________________________________________________________________\n"
          ]
        }
      ]
    },
    {
      "cell_type": "code",
      "source": [
        "model.fit(X_train, y_train, epochs=10, batch_size=32, validation_data=(X_val, y_val))"
      ],
      "metadata": {
        "colab": {
          "base_uri": "https://localhost:8080/"
        },
        "id": "u3NbAjJKQhg0",
        "outputId": "ae482cc6-d406-486a-f479-d4e0e2b1ad08"
      },
      "execution_count": null,
      "outputs": [
        {
          "output_type": "stream",
          "name": "stdout",
          "text": [
            "Epoch 1/10\n",
            "500/500 [==============================] - 32s 60ms/step - loss: 1.1395 - accuracy: 0.5866 - val_loss: 0.5724 - val_accuracy: 0.8320\n",
            "Epoch 2/10\n",
            "500/500 [==============================] - 25s 51ms/step - loss: 0.2625 - accuracy: 0.9194 - val_loss: 0.3909 - val_accuracy: 0.8770\n",
            "Epoch 3/10\n",
            "500/500 [==============================] - 26s 52ms/step - loss: 0.0820 - accuracy: 0.9757 - val_loss: 0.4296 - val_accuracy: 0.8725\n",
            "Epoch 4/10\n",
            "500/500 [==============================] - 28s 56ms/step - loss: 0.0407 - accuracy: 0.9893 - val_loss: 0.4481 - val_accuracy: 0.8715\n",
            "Epoch 5/10\n",
            "500/500 [==============================] - 26s 51ms/step - loss: 0.0276 - accuracy: 0.9932 - val_loss: 0.4965 - val_accuracy: 0.8765\n",
            "Epoch 6/10\n",
            "500/500 [==============================] - 26s 52ms/step - loss: 0.0206 - accuracy: 0.9946 - val_loss: 0.5245 - val_accuracy: 0.8680\n",
            "Epoch 7/10\n",
            "500/500 [==============================] - 26s 52ms/step - loss: 0.0197 - accuracy: 0.9948 - val_loss: 0.5831 - val_accuracy: 0.8645\n",
            "Epoch 8/10\n",
            "500/500 [==============================] - 26s 53ms/step - loss: 0.0187 - accuracy: 0.9954 - val_loss: 0.6140 - val_accuracy: 0.8625\n",
            "Epoch 9/10\n",
            "500/500 [==============================] - 26s 52ms/step - loss: 0.0177 - accuracy: 0.9946 - val_loss: 0.6932 - val_accuracy: 0.8605\n",
            "Epoch 10/10\n",
            "500/500 [==============================] - 26s 51ms/step - loss: 0.0176 - accuracy: 0.9954 - val_loss: 0.6748 - val_accuracy: 0.8620\n"
          ]
        },
        {
          "output_type": "execute_result",
          "data": {
            "text/plain": [
              "<keras.callbacks.History at 0x7f44c4689c40>"
            ]
          },
          "metadata": {},
          "execution_count": 26
        }
      ]
    },
    {
      "cell_type": "code",
      "source": [
        "predicted = model.predict(X_test)\n",
        "y_pred = predicted.argmax(axis=-1)\n",
        "\n",
        "print(classification_report(label_encoder.transform(df_test['Emotions']), y_pred))"
      ],
      "metadata": {
        "colab": {
          "base_uri": "https://localhost:8080/"
        },
        "id": "Eaj135rhXmqD",
        "outputId": "3a4be77b-548f-42b4-ddb8-137191ff7f4f"
      },
      "execution_count": null,
      "outputs": [
        {
          "output_type": "stream",
          "name": "stdout",
          "text": [
            "63/63 [==============================] - 1s 7ms/step\n",
            "              precision    recall  f1-score   support\n",
            "\n",
            "           0       0.79      0.90      0.84       275\n",
            "           1       0.85      0.74      0.79       224\n",
            "           2       0.88      0.88      0.88       695\n",
            "           3       0.73      0.74      0.73       159\n",
            "           4       0.91      0.88      0.89       581\n",
            "           5       0.60      0.71      0.65        66\n",
            "\n",
            "    accuracy                           0.85      2000\n",
            "   macro avg       0.79      0.81      0.80      2000\n",
            "weighted avg       0.85      0.85      0.85      2000\n",
            "\n"
          ]
        }
      ]
    },
    {
      "cell_type": "markdown",
      "source": [
        "## Testing Phase"
      ],
      "metadata": {
        "id": "9ku2IeURy03p"
      }
    },
    {
      "cell_type": "markdown",
      "source": [
        "The sentences used to train are cleaned (i.e., no punctuations, lower case, etc.) We proceed to standardize the input sentence with a function."
      ],
      "metadata": {
        "id": "NubdjsUma43r"
      }
    },
    {
      "cell_type": "code",
      "source": [
        "def emotion_classify(input_text):\n",
        "  print(input_text)\n",
        "  input_text = standarize_sentence(input_text)\n",
        "  input_text = tokenizer.texts_to_sequences([input_text])\n",
        "  input_text = pad_sequences(input_text, maxlen=max_length, truncating='pre')\n",
        "  result = label_encoder.inverse_transform(np.argmax(model.predict(input_text), axis=-1))[0]\n",
        "  probs =  np.max(model.predict(input_text))\n",
        "  print(f\"{result} : {probs}\\n\\n\")"
      ],
      "metadata": {
        "id": "Sy1kYQu9Xdm_"
      },
      "execution_count": null,
      "outputs": []
    },
    {
      "cell_type": "code",
      "source": [
        "x = \"She didn't come today because she lost her dog yestertay!\"\n",
        "\n",
        "emotion_classify(x)"
      ],
      "metadata": {
        "colab": {
          "base_uri": "https://localhost:8080/"
        },
        "id": "9CIZT9s8nPpZ",
        "outputId": "fe9d238b-3512-4479-e465-dcf637d534eb"
      },
      "execution_count": null,
      "outputs": [
        {
          "output_type": "stream",
          "name": "stdout",
          "text": [
            "She didn't come today because she lost her dog yestertay!\n",
            "1/1 [==============================] - 0s 55ms/step\n",
            "1/1 [==============================] - 0s 55ms/step\n",
            "sadness : 0.9998538494110107\n",
            "\n",
            "\n"
          ]
        }
      ]
    },
    {
      "cell_type": "markdown",
      "source": [
        "## Save Module using Pickle"
      ],
      "metadata": {
        "id": "Ih2YqmKN0URN"
      }
    },
    {
      "cell_type": "code",
      "source": [
        "pickle.dump(model, open('model.pkl', 'wb'))"
      ],
      "metadata": {
        "colab": {
          "base_uri": "https://localhost:8080/"
        },
        "id": "itN3l-Bg0WxL",
        "outputId": "304d2e26-5902-4f08-ec98-5afbbabe8818"
      },
      "execution_count": null,
      "outputs": [
        {
          "output_type": "stream",
          "name": "stdout",
          "text": [
            "Keras weights file (<HDF5 file \"variables.h5\" (mode r+)>) saving:\n",
            "...layers\n",
            "......dense\n",
            ".........vars\n",
            "............0\n",
            "............1\n",
            "......dense_1\n",
            ".........vars\n",
            "............0\n",
            "............1\n",
            "......embedding\n",
            ".........vars\n",
            "............0\n",
            "......flatten\n",
            ".........vars\n",
            "...metrics\n",
            "......mean\n",
            ".........vars\n",
            "............0\n",
            "............1\n",
            "......mean_metric_wrapper\n",
            ".........vars\n",
            "............0\n",
            "............1\n",
            "...optimizer\n",
            "......vars\n",
            ".........0\n",
            ".........1\n",
            ".........10\n",
            ".........2\n",
            ".........3\n",
            ".........4\n",
            ".........5\n",
            ".........6\n",
            ".........7\n",
            ".........8\n",
            ".........9\n",
            "...vars\n",
            "Keras model archive saving:\n",
            "File Name                                             Modified             Size\n",
            "config.json                                    2023-02-15 20:56:48         1934\n",
            "variables.h5                                   2023-02-15 20:56:48     68788288\n",
            "metadata.json                                  2023-02-15 20:56:48           64\n"
          ]
        }
      ]
    },
    {
      "cell_type": "code",
      "source": [],
      "metadata": {
        "id": "yR5gOZ7G0WRG"
      },
      "execution_count": null,
      "outputs": []
    }
  ]
}